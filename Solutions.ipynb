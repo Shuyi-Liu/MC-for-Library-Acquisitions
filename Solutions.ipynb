{
 "cells": [
  {
   "cell_type": "markdown",
   "metadata": {},
   "source": [
    "# Library Acquision Simulation"
   ]
  },
  {
   "cell_type": "code",
   "execution_count": 1,
   "metadata": {},
   "outputs": [],
   "source": [
    "import random\n",
    "import numpy as np\n",
    "import pandas as pd"
   ]
  },
  {
   "cell_type": "code",
   "execution_count": 2,
   "metadata": {},
   "outputs": [
    {
     "data": {
      "text/plain": [
       "[14.92, 12.07, 17.12, 3.94, 16.9, 8.88, 4.24, 8.79, 8.16, 19.35]"
      ]
     },
     "execution_count": 2,
     "metadata": {},
     "output_type": "execute_result"
    }
   ],
   "source": [
    "## This is getting thickness of books.\n",
    "def get_thickness(num_of_titles):\n",
    "    thickness_list = []\n",
    "    for i in range(num_of_titles):\n",
    "        thickness = round(random.uniform(0.1, 20), 2)\n",
    "        thickness_list.append(thickness)\n",
    "    # print(\"This is the random thickness:\", thickness_list)\n",
    "\n",
    "    return thickness_list\n",
    "get_thickness(10)"
   ]
  },
  {
   "cell_type": "code",
   "execution_count": 3,
   "metadata": {},
   "outputs": [
    {
     "name": "stdout",
     "output_type": "stream",
     "text": [
      "[15.63, 9.15, 5.56, 15.86, 4.3, 16.1, 13.87, 14.46, 14.84, 12.64]\n"
     ]
    },
    {
     "data": {
      "text/plain": [
       "[187.47, 92.34, 60.43, 101.56, 13.52, 192.34, 125.93, 179.02, 190.66, 148.68]"
      ]
     },
     "execution_count": 3,
     "metadata": {},
     "output_type": "execute_result"
    }
   ],
   "source": [
    "## This is getting price of books.\n",
    "def get_price(num_of_titles):\n",
    "    thickness = get_thickness(num_of_titles)\n",
    "    print(thickness)\n",
    "    price_list = []\n",
    "    for i in thickness:\n",
    "        price1 = round(random.uniform(1, 50), 2)\n",
    "        price2 = round(random.uniform(50, 100), 2)\n",
    "        price3 = round(random.uniform(100, 200), 2)\n",
    "        if i <= 5:\n",
    "            price_list.append(price1)\n",
    "        elif 5 < i <= 10:\n",
    "            price_list.append(price2)\n",
    "        elif i > 10:\n",
    "            price_list.append(price3)\n",
    "    return price_list\n",
    "get_price(10)"
   ]
  },
  {
   "cell_type": "code",
   "execution_count": 4,
   "metadata": {},
   "outputs": [
    {
     "data": {
      "text/html": [
       "<div>\n",
       "<style scoped>\n",
       "    .dataframe tbody tr th:only-of-type {\n",
       "        vertical-align: middle;\n",
       "    }\n",
       "\n",
       "    .dataframe tbody tr th {\n",
       "        vertical-align: top;\n",
       "    }\n",
       "\n",
       "    .dataframe thead th {\n",
       "        text-align: right;\n",
       "    }\n",
       "</style>\n",
       "<table border=\"1\" class=\"dataframe\">\n",
       "  <thead>\n",
       "    <tr style=\"text-align: right;\">\n",
       "      <th></th>\n",
       "      <th>Thickness</th>\n",
       "      <th>Price</th>\n",
       "    </tr>\n",
       "  </thead>\n",
       "  <tbody>\n",
       "    <tr>\n",
       "      <th>0</th>\n",
       "      <td>10.00</td>\n",
       "      <td>52.53</td>\n",
       "    </tr>\n",
       "    <tr>\n",
       "      <th>1</th>\n",
       "      <td>17.98</td>\n",
       "      <td>166.26</td>\n",
       "    </tr>\n",
       "    <tr>\n",
       "      <th>2</th>\n",
       "      <td>14.59</td>\n",
       "      <td>164.30</td>\n",
       "    </tr>\n",
       "    <tr>\n",
       "      <th>3</th>\n",
       "      <td>12.20</td>\n",
       "      <td>172.56</td>\n",
       "    </tr>\n",
       "    <tr>\n",
       "      <th>4</th>\n",
       "      <td>11.48</td>\n",
       "      <td>125.56</td>\n",
       "    </tr>\n",
       "    <tr>\n",
       "      <th>5</th>\n",
       "      <td>19.43</td>\n",
       "      <td>169.26</td>\n",
       "    </tr>\n",
       "    <tr>\n",
       "      <th>6</th>\n",
       "      <td>9.17</td>\n",
       "      <td>94.13</td>\n",
       "    </tr>\n",
       "    <tr>\n",
       "      <th>7</th>\n",
       "      <td>6.24</td>\n",
       "      <td>86.12</td>\n",
       "    </tr>\n",
       "    <tr>\n",
       "      <th>8</th>\n",
       "      <td>19.66</td>\n",
       "      <td>191.45</td>\n",
       "    </tr>\n",
       "    <tr>\n",
       "      <th>9</th>\n",
       "      <td>13.74</td>\n",
       "      <td>117.73</td>\n",
       "    </tr>\n",
       "  </tbody>\n",
       "</table>\n",
       "</div>"
      ],
      "text/plain": [
       "   Thickness   Price\n",
       "0      10.00   52.53\n",
       "1      17.98  166.26\n",
       "2      14.59  164.30\n",
       "3      12.20  172.56\n",
       "4      11.48  125.56\n",
       "5      19.43  169.26\n",
       "6       9.17   94.13\n",
       "7       6.24   86.12\n",
       "8      19.66  191.45\n",
       "9      13.74  117.73"
      ]
     },
     "execution_count": 4,
     "metadata": {},
     "output_type": "execute_result"
    }
   ],
   "source": [
    "## combine the two functions and retunr DataFrame.\n",
    "def get_attributes(num_of_titles):\n",
    "    '''\n",
    "    This is getting attributes of books, thickness and prices. The price will caculate randomly depedning on its thickness.\n",
    "    :param num_of_titles: Integer. a number of titles a librarian would like to purchase.\n",
    "    :return: DataFrame, columns are thickness and price.\n",
    "    '''\n",
    "    thickness_list = []\n",
    "    for i in range(num_of_titles):\n",
    "        thickness = round(random.uniform(0.1, 20), 2)\n",
    "        thickness_list.append(thickness)\n",
    "    # print(\"This is the random thickness:\", thickness_list)\n",
    "    price_list = []\n",
    "    for i in thickness_list:\n",
    "        price1 = round(random.uniform(1, 50), 2)\n",
    "        price2 = round(random.uniform(50, 100), 2)\n",
    "        price3 = round(random.uniform(100, 200), 2)\n",
    "        if i <= 5:\n",
    "            price_list.append(price1)\n",
    "        elif 5 < i <= 10:\n",
    "            price_list.append(price2)\n",
    "        elif i > 10:\n",
    "            price_list.append(price3)\n",
    "    # print(\"This is the random price\", price_list)\n",
    "    df = pd.DataFrame(data={'Thickness': thickness_list,\n",
    "                            'Price': price_list})\n",
    "#     print(\"This is the random book\\n\", df)\n",
    "    return df\n",
    "get_attributes(10)"
   ]
  },
  {
   "cell_type": "code",
   "execution_count": 5,
   "metadata": {},
   "outputs": [],
   "source": [
    "# vendor discount. We created discount percentage depending on a number of books that a library would like to purchase.\n",
    "def vendor_discount(num_of_titles):\n",
    "    '''\n",
    "    Discount percentage vendor will offer.\n",
    "    :param num_of_titles: Integer. A number of titles a librarian would like to purchase from a vendor\n",
    "    :return: float.\n",
    "    >>> vendor_discount(50)\n",
    "    0.01\n",
    "    >>> vendor_discount(280)\n",
    "    0.02\n",
    "    '''\n",
    "    if num_of_titles < 100:\n",
    "        return 0.01\n",
    "    elif 100 <= num_of_titles < 500:\n",
    "        return 0.02\n",
    "    elif num_of_titles >= 500:\n",
    "        return 0.05"
   ]
  },
  {
   "cell_type": "code",
   "execution_count": 6,
   "metadata": {},
   "outputs": [
    {
     "name": "stdout",
     "output_type": "stream",
     "text": [
      "194.44\n",
      "This is the new book plan:\n",
      "    Thickness   Price\n",
      "1       0.97    4.83\n",
      "2      14.74  146.08\n",
      "3      17.89  173.61\n",
      "4      14.85  132.84\n",
      "5       1.43   33.81\n",
      "6      10.13  155.21\n",
      "7       8.39   55.57\n",
      "8       0.39   38.17\n",
      "9      18.28  161.85\n"
     ]
    },
    {
     "data": {
      "text/html": [
       "<div>\n",
       "<style scoped>\n",
       "    .dataframe tbody tr th:only-of-type {\n",
       "        vertical-align: middle;\n",
       "    }\n",
       "\n",
       "    .dataframe tbody tr th {\n",
       "        vertical-align: top;\n",
       "    }\n",
       "\n",
       "    .dataframe thead th {\n",
       "        text-align: right;\n",
       "    }\n",
       "</style>\n",
       "<table border=\"1\" class=\"dataframe\">\n",
       "  <thead>\n",
       "    <tr style=\"text-align: right;\">\n",
       "      <th></th>\n",
       "      <th>Thickness</th>\n",
       "      <th>Price</th>\n",
       "    </tr>\n",
       "  </thead>\n",
       "  <tbody>\n",
       "    <tr>\n",
       "      <th>1</th>\n",
       "      <td>0.97</td>\n",
       "      <td>4.83</td>\n",
       "    </tr>\n",
       "    <tr>\n",
       "      <th>2</th>\n",
       "      <td>14.74</td>\n",
       "      <td>146.08</td>\n",
       "    </tr>\n",
       "    <tr>\n",
       "      <th>3</th>\n",
       "      <td>17.89</td>\n",
       "      <td>173.61</td>\n",
       "    </tr>\n",
       "    <tr>\n",
       "      <th>4</th>\n",
       "      <td>14.85</td>\n",
       "      <td>132.84</td>\n",
       "    </tr>\n",
       "    <tr>\n",
       "      <th>5</th>\n",
       "      <td>1.43</td>\n",
       "      <td>33.81</td>\n",
       "    </tr>\n",
       "    <tr>\n",
       "      <th>6</th>\n",
       "      <td>10.13</td>\n",
       "      <td>155.21</td>\n",
       "    </tr>\n",
       "    <tr>\n",
       "      <th>7</th>\n",
       "      <td>8.39</td>\n",
       "      <td>55.57</td>\n",
       "    </tr>\n",
       "    <tr>\n",
       "      <th>8</th>\n",
       "      <td>0.39</td>\n",
       "      <td>38.17</td>\n",
       "    </tr>\n",
       "    <tr>\n",
       "      <th>9</th>\n",
       "      <td>18.28</td>\n",
       "      <td>161.85</td>\n",
       "    </tr>\n",
       "  </tbody>\n",
       "</table>\n",
       "</div>"
      ],
      "text/plain": [
       "   Thickness   Price\n",
       "1       0.97    4.83\n",
       "2      14.74  146.08\n",
       "3      17.89  173.61\n",
       "4      14.85  132.84\n",
       "5       1.43   33.81\n",
       "6      10.13  155.21\n",
       "7       8.39   55.57\n",
       "8       0.39   38.17\n",
       "9      18.28  161.85"
      ]
     },
     "execution_count": 6,
     "metadata": {},
     "output_type": "execute_result"
    }
   ],
   "source": [
    "# drop books when price is excceed budget.\n",
    "def price_solution(plan):\n",
    "    '''\n",
    "    A function for drop books from a list because of limited budget.\n",
    "    :param plan: Data Frame. A book list with thickness and price\n",
    "    :return: Data Frame excluding the book whose cost is the highest from the plan.\n",
    "    '''\n",
    "    drop = plan['Price'].max()\n",
    "    print(drop)\n",
    "    new_plan = plan.loc[plan['Price'] != drop]\n",
    "    print('This is the new book plan:\\n', new_plan)\n",
    "    return new_plan\n",
    "plan = get_attributes(10)\n",
    "price_solution(plan)"
   ]
  },
  {
   "cell_type": "code",
   "execution_count": 7,
   "metadata": {},
   "outputs": [],
   "source": [
    "# drop books when space is not enough for new books.\n",
    "def space_solution(plan):\n",
    "    '''\n",
    "    A function for dropping books from a list because of limited space\n",
    "    :param plan: Data Frame. A book list with thickness and price\n",
    "    :return: Data Frame, excluding the book whose space is the largest from the plan.\n",
    "    '''\n",
    "    drop = plan['Thickness'].max()\n",
    "    # print(drop)\n",
    "    new_plan = plan.loc[plan['Thickness'] != drop]\n",
    "    print('This is the new book plan:\\n', new_plan)\n",
    "    return new_plan"
   ]
  },
  {
   "cell_type": "code",
   "execution_count": 8,
   "metadata": {},
   "outputs": [],
   "source": [
    "# Monte Carlo Simulation for Acquisitions.\n"
   ]
  },
  {
   "cell_type": "code",
   "execution_count": null,
   "metadata": {},
   "outputs": [],
   "source": []
  }
 ],
 "metadata": {
  "kernelspec": {
   "display_name": "Python 3",
   "language": "python",
   "name": "python3"
  },
  "language_info": {
   "codemirror_mode": {
    "name": "ipython",
    "version": 3
   },
   "file_extension": ".py",
   "mimetype": "text/x-python",
   "name": "python",
   "nbconvert_exporter": "python",
   "pygments_lexer": "ipython3",
   "version": "3.6.5"
  }
 },
 "nbformat": 4,
 "nbformat_minor": 2
}
